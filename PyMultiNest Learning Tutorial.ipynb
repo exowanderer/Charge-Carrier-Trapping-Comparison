{
 "cells": [
  {
   "cell_type": "markdown",
   "metadata": {},
   "source": [
    "# PyMultiNest Learning Tutorial\n",
    "\n",
    "CCT = Charge Carrier Trapping - This is a test of comparing the Zhou et al 2017 results with a data driven analysis using multinest"
   ]
  },
  {
   "cell_type": "code",
   "execution_count": null,
   "metadata": {
    "collapsed": true
   },
   "outputs": [],
   "source": [
    "%matplotlib inline\n",
    "from pylab import *;ion()\n",
    "from pandas import read_csv"
   ]
  },
  {
   "cell_type": "code",
   "execution_count": null,
   "metadata": {
    "collapsed": true
   },
   "outputs": [],
   "source": [
    "import os\n",
    "if not os.path.exists('chains/'):\n",
    "    os.mkdir('chains')\n",
    "\n",
    "print(os.path.exists('chains'))"
   ]
  },
  {
   "cell_type": "markdown",
   "metadata": {},
   "source": [
    "# PyMultiNest Solver Class"
   ]
  },
  {
   "cell_type": "markdown",
   "metadata": {},
   "source": [
    "**Initial Example**"
   ]
  },
  {
   "cell_type": "code",
   "execution_count": null,
   "metadata": {
    "collapsed": true
   },
   "outputs": [],
   "source": [
    "#!/usr/bin/env python\n",
    "from pymultinest.solve import Solver\n",
    "from numpy import pi, sin\n",
    "\n",
    "class EggboxProblem(Solver):\n",
    "    def Prior(self, cube):\n",
    "        return cube * 10 * pi\n",
    "    def LogLikelihood(self, cube):\n",
    "        chi = (sin(cube)).prod()\n",
    "        return (2. + chi)**5\n",
    "\n",
    "solution = EggboxProblem(n_dims = 1)\n",
    "print(solution)\n",
    "solution = EggboxProblem(n_dims = 2)\n",
    "print(solution)"
   ]
  },
  {
   "cell_type": "markdown",
   "metadata": {},
   "source": [
    "**My PyMultiNest Test**"
   ]
  },
  {
   "cell_type": "code",
   "execution_count": null,
   "metadata": {
    "collapsed": false
   },
   "outputs": [],
   "source": [
    "%matplotlib inline\n",
    "from pylab import *;ion()\n",
    "\n",
    "from pymultinest.solve import Solver,solve\n",
    "from numpy import pi, sin, cos, linspace\n",
    "\n",
    "def straight_line(cube):\n",
    "    offset = cube[0]\n",
    "    slope  = cube[1]\n",
    "    return lambda abscissa: offset + slope * abscissa\n",
    "\n",
    "def sine_wave(cube):\n",
    "    amp    = cube[0]\n",
    "    period = cube[1]\n",
    "    return lambda abscissa: amp*sin(2*pi / period * abscissa)\n",
    "\n",
    "np.random.seed(0)\n",
    "\n",
    "param0= 0.1#0.05\n",
    "param1= 0.1#5*pi\n",
    "yunc  = 0.025\n",
    "nPts  = int(10)\n",
    "nThPts= int(1e3)\n",
    "\n",
    "xmin  = -0.5*pi\n",
    "xmax  =  0.5*pi\n",
    "dx    = 0.1*(xmax - xmin)\n",
    "\n",
    "# model = sine_wave\n",
    "model = straight_line\n",
    "\n",
    "yuncs = np.random.normal(yunc, 1e-2 * yunc, nPts)\n",
    "thdata= np.linspace(xmin-dx, xmax+dx, nThPts)\n",
    "\n",
    "xdata = np.random.uniform(xmin, xmax, nPts)\n",
    "xdata = sort(xdata)\n",
    "\n",
    "ydata = model([param0,param1])(xdata)\n",
    "\n",
    "yerr  = np.random.normal(0, yuncs, nPts)\n",
    "zdata = ydata + yerr\n",
    "\n",
    "figure(figsize=(20,5))\n",
    "plot(thdata, model([param0, param1])(thdata))\n",
    "errorbar(xdata, zdata, yuncs, fmt='o')"
   ]
  },
  {
   "cell_type": "code",
   "execution_count": null,
   "metadata": {
    "collapsed": false
   },
   "outputs": [],
   "source": [
    "class ChisqFit(Solver):\n",
    "    def Prior(self, cube):\n",
    "        return cube\n",
    "    \n",
    "    def LogLikelihood(self, cube):\n",
    "        chisq = (-0.5*((model(cube)(xdata) - ydata)**2.) )#/ yuncs**2.\n",
    "        return chisq.prod()\n",
    "\n",
    "# solution = ChisqFit(n_dims = 2, resume=False, outputfiles_basename='./42-')\n",
    "\n",
    "solution = ChisqFit(n_dims = 2, n_params=None, n_clustering_params=None, wrapped_params=None        , \\\n",
    "                    importance_nested_sampling=True, multimodal=True, const_efficiency_mode=False   , \\\n",
    "                    n_live_points=400, evidence_tolerance=0.5, sampling_efficiency=0.8              , \\\n",
    "                    n_iter_before_update=100, null_log_evidence=-1e+90, max_modes=100               , \\\n",
    "                    mode_tolerance=-1e+90, outputfiles_basename='chains/1-', seed=-1, verbose=False , \\\n",
    "                    resume=False, context=0, write_output=True, log_zero=-1e+100, max_iter=0         , \\\n",
    "                    init_MPI=False, dump_callback=None)\n",
    "print(solution)"
   ]
  },
  {
   "cell_type": "markdown",
   "metadata": {},
   "source": [
    "**Simplest Example**"
   ]
  },
  {
   "cell_type": "code",
   "execution_count": null,
   "metadata": {
    "collapsed": true
   },
   "outputs": [],
   "source": [
    "import pymultinest\n",
    "\n",
    "def prior(cube, ndim, nparams):\n",
    "    cube[0] = cube[0] * 2\n",
    "\n",
    "def loglikelihood(cube, ndim, nparams):\n",
    "    return ((cube[0] - 0.2) / 0.1)**2\n",
    "\n",
    "pymultinest.run(loglikelihood, prior, n_dims=1, max_iter=2)"
   ]
  },
  {
   "cell_type": "markdown",
   "metadata": {},
   "source": [
    "# PyMultiNest Solve Function"
   ]
  },
  {
   "cell_type": "code",
   "execution_count": null,
   "metadata": {
    "collapsed": true
   },
   "outputs": [],
   "source": [
    "#!/usr/bin/env python\n",
    "from __future__ import absolute_import, unicode_literals, print_function\n",
    "import numpy\n",
    "from numpy import pi, cos\n",
    "from pymultinest.solve import solve\n",
    "import os\n",
    "\n",
    "if not os.path.exists(\"chains\"): os.mkdir(\"chains\")\n",
    "\n",
    "# probability function, taken from the eggbox problem.\n",
    "\n",
    "def myprior(cube):\n",
    "    return cube * 10 * pi\n",
    "\n",
    "def myloglike(cube):\n",
    "    chi = (cos(cube / 2.)).prod()\n",
    "    return (2. + chi)**5"
   ]
  },
  {
   "cell_type": "code",
   "execution_count": null,
   "metadata": {
    "collapsed": true
   },
   "outputs": [],
   "source": [
    "# number of dimensions our problem has\n",
    "parameters = [\"x\", \"y\"]\n",
    "n_params = len(parameters)\n",
    "\n",
    "# run MultiNest\n",
    "result = solve(LogLikelihood=myloglike, Prior=myprior, \n",
    "    n_dims=n_params, outputfiles_basename=\"chains/3-\")\n",
    "\n",
    "print()\n",
    "print('evidence: %(logZ).1f +- %(logZerr).1f' % result)\n",
    "print()\n",
    "print('parameter values:')\n",
    "for name, col in zip(parameters, result['samples'].transpose()):\n",
    "    print('%15s : %.3f +- %.3f' % (name, col.mean(), col.std()))"
   ]
  },
  {
   "cell_type": "markdown",
   "metadata": {},
   "source": [
    "# PyMultiNest Run Function from Demo_Minimalist"
   ]
  },
  {
   "cell_type": "raw",
   "metadata": {
    "collapsed": true
   },
   "source": [
    "from __future__ import absolute_import, unicode_literals, print_function\n",
    "import pymultinest\n",
    "import math, os\n",
    "if not os.path.exists(\"chains\"): os.mkdir(\"chains\")\n",
    "\n",
    "# our probability functions\n",
    "# Taken from the eggbox problem.\n",
    "\n",
    "def myprior(cube, ndim, nparams):\n",
    "    for i in range(ndim):\n",
    "        cube[i] = cube[i] * 10 * math.pi\n",
    "\n",
    "def myloglike(cube, ndim, nparams):\n",
    "    chi = 1.\n",
    "    for i in range(ndim):\n",
    "        chi *= math.cos(cube[i] / 2.)\n",
    "    return math.pow(2. + chi, 5)\n",
    "#     return (2. + chi)**5"
   ]
  },
  {
   "cell_type": "raw",
   "metadata": {},
   "source": [
    "# number of dimensions our problem has\n",
    "parameters = [\"x\", \"y\"]\n",
    "n_params = len(parameters)\n",
    "\n",
    "# run MultiNest\n",
    "pymultinest.run(myloglike, myprior, n_params, resume = True, verbose = True)\n",
    "\n",
    "# run \n",
    "# $ multinest_marginals.py chains/1-\n",
    "# which will produce pretty marginal pdf plots\n",
    "\n",
    "# for code to analyse the results, and make plots see full demo"
   ]
  },
  {
   "cell_type": "markdown",
   "metadata": {},
   "source": [
    "# PyMultiNest Self-Generated Run Function: 'multinest_marginals.py'"
   ]
  },
  {
   "cell_type": "raw",
   "metadata": {
    "collapsed": true
   },
   "source": [
    "#!/usr/bin/env python\n",
    "from __future__ import absolute_import, unicode_literals, print_function\n",
    "__doc__ = \"\"\"\n",
    "Script that does default visualizations (marginal plots, 1-d and 2-d).\n",
    "\n",
    "Author: Johannes Buchner (C) 2013\n",
    "\"\"\"\n",
    "import numpy\n",
    "from numpy import exp, log\n",
    "import matplotlib.pyplot as plt\n",
    "import sys, os\n",
    "import json\n",
    "import pymultinest"
   ]
  },
  {
   "cell_type": "raw",
   "metadata": {
    "collapsed": true
   },
   "source": [
    "argv = ['multinest_marginals.py','chains/1-']\n",
    "\n",
    "if len(argv) != 2:\n",
    "    sys.stderr.write(\"\"\"SYNOPSIS: %s <output-root> \n",
    "\n",
    "    output-root:     Where the output of a MultiNest run has been written to. \n",
    "                    Example: chains/1-\n",
    "%s\"\"\" % (argv[0], __doc__))\n",
    "    sys.exit(1)"
   ]
  },
  {
   "cell_type": "raw",
   "metadata": {},
   "source": [
    "prefix = argv[1]\n",
    "print('model \"%s\"' % prefix)\n",
    "parameters = json.load(open(prefix + 'params.json'))\n",
    "n_params = len(parameters)"
   ]
  },
  {
   "cell_type": "raw",
   "metadata": {},
   "source": [
    "a = pymultinest.Analyzer(n_params = n_params, outputfiles_basename = prefix)\n",
    "s = a.get_stats()\n",
    "\n",
    "json.dump(s, open(prefix + 'stats.json', 'w'), indent=4)"
   ]
  },
  {
   "cell_type": "raw",
   "metadata": {},
   "source": [
    "print('  marginal likelihood:')\n",
    "print('    ln Z = %.1f +- %.1f' % (s['global evidence'], s['global evidence error']))\n",
    "print('  parameters:')\n",
    "for p, m in zip(parameters, s['marginals']):\n",
    "    lo, hi = m['1sigma']\n",
    "    med = m['median']\n",
    "    sigma = (hi - lo) / 2\n",
    "    i = max(0, int(-numpy.floor(numpy.log10(sigma))) + 1)\n",
    "    fmt = '%%.%df' % i\n",
    "    fmts = '\\t'.join(['    %-15s' + fmt + \" +- \" + fmt])\n",
    "    print(fmts % (p, med, sigma))"
   ]
  },
  {
   "cell_type": "raw",
   "metadata": {},
   "source": [
    "print('creating marginal plot ...')\n",
    "p = pymultinest.PlotMarginal(a)"
   ]
  },
  {
   "cell_type": "raw",
   "metadata": {
    "collapsed": true
   },
   "source": [
    "values = a.get_equal_weighted_posterior()\n",
    "assert n_params == len(s['marginals'])\n",
    "modes = s['modes']"
   ]
  },
  {
   "cell_type": "raw",
   "metadata": {},
   "source": [
    "dim2 = os.environ.get('D', '1' if n_params > 20 else '2') == '2'\n",
    "dim2"
   ]
  },
  {
   "cell_type": "raw",
   "metadata": {},
   "source": [
    "%matplotlib inline\n",
    "from pylab import *;ion()\n",
    "nbins = 100 if n_params < 3 else 20\n",
    "if dim2:\n",
    "    print('dim2 is True and n_params is', n_params)\n",
    "    plt.figure(figsize=(5*n_params, 5*n_params))\n",
    "    for i in range(n_params):\n",
    "        plt.subplot(n_params, n_params, i + 1)\n",
    "        plt.xlabel(parameters[i])\n",
    "    \n",
    "        m = s['marginals'][i]\n",
    "        plt.xlim(m['5sigma'])\n",
    "    \n",
    "        oldax = plt.gca()\n",
    "        x,w,patches = oldax.hist(values[:,i], bins=nbins, edgecolor='grey', color='grey', histtype='stepfilled', alpha=0.2)\n",
    "        oldax.set_ylim(0, x.max())\n",
    "    \n",
    "        newax = plt.gcf().add_axes(oldax.get_position(), sharex=oldax, frameon=False)\n",
    "        p.plot_marginal(i, ls='-', color='blue', linewidth=3)\n",
    "        newax.set_ylim(0, 1)\n",
    "    \n",
    "        ylim = newax.get_ylim()\n",
    "        y = ylim[0] + 0.05*(ylim[1] - ylim[0])\n",
    "        center = m['median']\n",
    "        low1, high1 = m['1sigma']\n",
    "        #print(center, low1, high1)\n",
    "        newax.errorbar(x=center, y=y,\n",
    "            xerr=numpy.transpose([[center - low1, high1 - center]]), \n",
    "            color='blue', linewidth=2, marker='s')\n",
    "        oldax.set_yticks([])\n",
    "        #newax.set_yticks([])\n",
    "        newax.set_ylabel(\"Probability\")\n",
    "        ylim = oldax.get_ylim()\n",
    "        newax.set_xlim(m['5sigma'])\n",
    "        oldax.set_xlim(m['5sigma'])\n",
    "        #plt.close()\n",
    "    \n",
    "        for j in range(i):\n",
    "            plt.subplot(n_params, n_params, n_params * (j + 1) + i + 1)\n",
    "            p.plot_conditional(i, j, bins=20, cmap = plt.cm.gray_r)\n",
    "            for m in modes:\n",
    "                plt.errorbar(x=m['mean'][i], y=m['mean'][j], xerr=m['sigma'][i], yerr=m['sigma'][j])\n",
    "            plt.xlabel(parameters[i])\n",
    "            plt.ylabel(parameters[j])\n",
    "            #plt.savefig('cond_%s_%s.pdf' % (params[i], params[j]), bbox_tight=True)\n",
    "            #plt.close()\n",
    "\n",
    "    plt.savefig(prefix + 'marg.pdf')\n",
    "    plt.savefig(prefix + 'marg.png')\n",
    "    plt.close()\n",
    "else:\n",
    "    from matplotlib.backends.backend_pdf import PdfPages\n",
    "    sys.stderr.write('1dimensional only. Set the D environment variable \\n')\n",
    "    sys.stderr.write('to D=2 to force 2d marginal plots.\\n')\n",
    "    pp = PdfPages(prefix + 'marg1d.pdf')\n",
    "    \n",
    "    for i in range(n_params):\n",
    "        plt.figure(figsize=(3, 3))\n",
    "        plt.xlabel(parameters[i])\n",
    "        plt.locator_params(nbins=5)\n",
    "        \n",
    "        m = s['marginals'][i]\n",
    "        iqr = m['q99%'] - m['q01%']\n",
    "        xlim = m['q01%'] - 0.3 * iqr, m['q99%'] + 0.3 * iqr\n",
    "        #xlim = m['5sigma']\n",
    "        plt.xlim(xlim)\n",
    "    \n",
    "        oldax = plt.gca()\n",
    "        x,w,patches = oldax.hist(values[:,i], bins=numpy.linspace(xlim[0], xlim[1], 20), edgecolor='grey', color='grey', histtype='stepfilled', alpha=0.2)\n",
    "        oldax.set_ylim(0, x.max())\n",
    "    \n",
    "        newax = plt.gcf().add_axes(oldax.get_position(), sharex=oldax, frameon=False)\n",
    "        p.plot_marginal(i, ls='-', color='blue', linewidth=3)\n",
    "        newax.set_ylim(0, 1)\n",
    "    \n",
    "        ylim = newax.get_ylim()\n",
    "        y = ylim[0] + 0.05*(ylim[1] - ylim[0])\n",
    "        center = m['median']\n",
    "        low1, high1 = m['1sigma']\n",
    "        #print center, low1, high1\n",
    "        newax.errorbar(x=center, y=y,\n",
    "            xerr=numpy.transpose([[center - low1, high1 - center]]), \n",
    "            color='blue', linewidth=2, marker='s')\n",
    "        oldax.set_yticks([])\n",
    "        newax.set_ylabel(\"Probability\")\n",
    "        ylim = oldax.get_ylim()\n",
    "        newax.set_xlim(xlim)\n",
    "        oldax.set_xlim(xlim)\n",
    "        plt.savefig(pp, format='pdf', bbox_inches='tight')\n",
    "        plt.close()\n",
    "    pp.close()"
   ]
  },
  {
   "cell_type": "markdown",
   "metadata": {},
   "source": [
    "# PyMultiNest Demo Script -- Full"
   ]
  },
  {
   "cell_type": "code",
   "execution_count": null,
   "metadata": {
    "collapsed": true
   },
   "outputs": [],
   "source": [
    "from __future__ import absolute_import, unicode_literals, print_function\n",
    "import pymultinest\n",
    "import math\n",
    "import os\n",
    "import threading, subprocess\n",
    "from sys import platform\n",
    "\n",
    "if not os.path.exists(\"chains\"): os.mkdir(\"chains\")"
   ]
  },
  {
   "cell_type": "code",
   "execution_count": null,
   "metadata": {
    "collapsed": false
   },
   "outputs": [],
   "source": [
    "%matplotlib inline\n",
    "from pylab import *;ion()\n",
    "\n",
    "from pymultinest.solve import Solver,solve\n",
    "from numpy import pi, sin, cos, linspace\n",
    "\n",
    "def gaussian1D(cube):\n",
    "    # cube = np.float32(cube)\n",
    "    return lambda y: np.exp(-0.5*(( (cube[0] - y) / cube[1])**2)) / sqrt(2*pi*cube[1]**2)\n",
    "\n",
    "def straight_line(cube):\n",
    "    offset = cube[0]\n",
    "    slope  = cube[1]\n",
    "    return lambda abscissa: offset + slope * abscissa\n",
    "\n",
    "def sine_wave(cube):\n",
    "    amp    = cube[0]\n",
    "    period = cube[1]\n",
    "    return lambda abscissa: amp*sin(2*pi / period * abscissa)\n",
    "\n",
    "np.random.seed(42)\n",
    "\n",
    "param0= 0.5#0.05\n",
    "param1= 0.1#5*pi\n",
    "yunc  = 0.1\n",
    "nPts  = int(50)\n",
    "nThPts= int(1e3)\n",
    "\n",
    "xmin  = -1#*pi\n",
    "xmax  =  1#*pi\n",
    "dx    = 0.1*(xmax - xmin)\n",
    "\n",
    "model = gaussian1D\n",
    "# model = sine_wave\n",
    "# model = straight_line\n",
    "\n",
    "yuncs = np.random.normal(yunc, 1e-2 * yunc, nPts)\n",
    "thdata= np.linspace(xmin-dx, xmax+dx, nThPts)\n",
    "\n",
    "xdata = np.random.uniform(xmin, xmax, nPts)\n",
    "xdata = sort(xdata)\n",
    "\n",
    "ydata = model([param0,param1])(xdata)\n",
    "\n",
    "yerr  = np.random.normal(0, yuncs, nPts)\n",
    "zdata = ydata + yerr\n",
    "\n",
    "figure(figsize=(10,10))\n",
    "plot(thdata, model([param0,param1])(thdata))\n",
    "errorbar(xdata, zdata, yunc*ones(zdata.size), fmt='o')"
   ]
  },
  {
   "cell_type": "code",
   "execution_count": null,
   "metadata": {
    "collapsed": true
   },
   "outputs": [],
   "source": [
    "# our probability functions\n",
    "# Taken from the eggbox problem.\n",
    "# model = sine_wave\n",
    "# parameters = [\"amp\", \"period\"]\n",
    "\n",
    "model = gaussian1D\n",
    "parameters = [\"center\", \"width\"]\n",
    "\n",
    "# model = straight_line\n",
    "# parameters = [\"offset\", \"slope\"]\n",
    "\n",
    "def myprior(cube, ndim, nparams):\n",
    "    pass\n",
    "#     #print \"cube before\", [cube[i] for i in range(ndim)]\n",
    "#     for i in range(ndim):\n",
    "#         cube[i] = cube[i]# U(0,1) -- default\n",
    "#     #print \"python cube after\", [cube[i] for i in range(ndim)]\n",
    "\n",
    "def myloglike(cube, ndim, nparams):\n",
    "    # print \"cube\", [cube[i] for i in range(ndim)], cube\n",
    "    # for i in range(ndim):\n",
    "    #     chi *= -0.5 * ((cube[i] - 0.2) / 0.1)**2#math.cos(cube[i] / 2.) * math.sin(cube[i] / 2.)\n",
    "    # print \"returning\", math.pow(2. + chi, 5)\n",
    "    modelNow = model(cube)(xdata)\n",
    "    return -0.5*((modelNow - ydata)**2. / yuncs**2.).sum()"
   ]
  },
  {
   "cell_type": "code",
   "execution_count": null,
   "metadata": {
    "collapsed": false
   },
   "outputs": [],
   "source": [
    "# number of dimensions our problem has\n",
    "# parameters = [\"x\", \"y\"]\n",
    "n_params = len(parameters)\n",
    "\n",
    "plt.figure(figsize=(5*n_params, 5*n_params))\n",
    "# we want to see some output while it is running\n",
    "progress = pymultinest.ProgressPlotter(n_params = n_params, outputfiles_basename='chains/2-'); progress.start()\n",
    "# threading.Timer(2, show, [\"chains/2-phys_live.points.pdf\"]).start() # delayed opening\n",
    "# run MultiNest\n",
    "pymultinest.run(myloglike, myprior, n_params, importance_nested_sampling = False, resume = False, verbose = True, \\\n",
    "            sampling_efficiency = 'model', n_live_points = 1000, outputfiles_basename='chains/2-')\n",
    "\n",
    "# ok, done. Stop our progress watcher\n",
    "progress.stop()\n",
    "\n",
    "# lets analyse the results\n",
    "a = pymultinest.Analyzer(n_params = n_params, outputfiles_basename='chains/2-')\n",
    "s = a.get_stats()"
   ]
  },
  {
   "cell_type": "code",
   "execution_count": null,
   "metadata": {
    "collapsed": false
   },
   "outputs": [],
   "source": [
    "import json\n",
    "\n",
    "# store name of parameters, always useful\n",
    "with open('%sparams.json' % a.outputfiles_basename, 'w') as f:\n",
    "    json.dump(parameters, f, indent=2)\n",
    "# store derived stats\n",
    "with open('%sstats.json' % a.outputfiles_basename, mode='w') as f:\n",
    "    json.dump(s, f, indent=2)\n",
    "\n",
    "print()\n",
    "print(\"-\" * 30, 'ANALYSIS', \"-\" * 30)\n",
    "print(\"Global Evidence:\\n\\t%.15e +- %.15e\" % ( s['nested sampling global log-evidence'], s['nested sampling global log-evidence error'] ))"
   ]
  },
  {
   "cell_type": "code",
   "execution_count": null,
   "metadata": {
    "collapsed": false
   },
   "outputs": [],
   "source": [
    "import matplotlib.pyplot as plt\n",
    "plt.clf()\n",
    "\n",
    "# Here we will plot all the marginals and whatnot, just to show off\n",
    "# You may configure the format of the output here, or in matplotlibrc\n",
    "# All pymultinest does is filling in the data of the plot.\n",
    "\n",
    "# Copy and edit this file, and play with it.\n",
    "\n",
    "p = pymultinest.PlotMarginalModes(a)\n",
    "plt.figure(figsize=(5*n_params, 5*n_params))\n",
    "#plt.subplots_adjust(wspace=0, hspace=0)\n",
    "for i in range(n_params):\n",
    "    plt.subplot(n_params, n_params, n_params * i + i + 1)\n",
    "    p.plot_marginal(i, with_ellipses = True, with_points = False, grid_points=50)\n",
    "    plt.ylabel(\"Probability\")\n",
    "    plt.xlabel(parameters[i])\n",
    "    \n",
    "    for j in range(i):\n",
    "        plt.subplot(n_params, n_params, n_params * j + i + 1)\n",
    "        #plt.subplots_adjust(left=0, bottom=0, right=0, top=0, wspace=0, hspace=0)\n",
    "        p.plot_conditional(i, j, with_ellipses = False, with_points = True, grid_points=30)\n",
    "        plt.xlabel(parameters[i])\n",
    "        plt.ylabel(parameters[j])\n",
    "\n",
    "# plt.savefig(\"chains/marginals_multinest.pdf\") #, bbox_inches='tight')\n",
    "# show(\"chains/marginals_multinest.pdf\")\n",
    "\n",
    "plt.figure(figsize=(5*n_params, 5*n_params))\n",
    "plt.subplot2grid((5*n_params, 5*n_params), loc=(0,0))\n",
    "for i in range(n_params):\n",
    "    #plt.subplot(n_params, n_params, i + 1)\n",
    "    # outfile = '%s-mode-marginal-%d.pdf' % (a.outputfiles_basename,i)\n",
    "    p.plot_modes_marginal(i, with_ellipses = True, with_points = False)\n",
    "    plt.ylabel(\"Probability\")\n",
    "    plt.xlabel(parameters[i])\n",
    "    # plt.savefig(outfile, format='pdf', bbox_inches='tight')\n",
    "    # plt.close()\n",
    "    \n",
    "    # outfile = '%s-mode-marginal-cumulative-%d.pdf' % (a.outputfiles_basename,i)\n",
    "    p.plot_modes_marginal(i, cumulative = True, with_ellipses = True, with_points = False)\n",
    "    plt.ylabel(\"Cumulative probability\")\n",
    "    plt.xlabel(parameters[i])\n",
    "    # plt.savefig(outfile, format='pdf', bbox_inches='tight')\n",
    "    # plt.close()\n",
    "\n",
    "print(\"Take a look at the pdf files in chains/\") "
   ]
  },
  {
   "cell_type": "code",
   "execution_count": null,
   "metadata": {
    "collapsed": false
   },
   "outputs": [],
   "source": [
    "p.analyser.get_best_fit()['parameters'], [param0, param1]"
   ]
  },
  {
   "cell_type": "code",
   "execution_count": null,
   "metadata": {
    "collapsed": false
   },
   "outputs": [],
   "source": [
    "p.analyser.get_stats()"
   ]
  },
  {
   "cell_type": "code",
   "execution_count": null,
   "metadata": {
    "collapsed": false,
    "scrolled": false
   },
   "outputs": [],
   "source": [
    "figure(figsize=(10,10))\n",
    "plot(thdata, model(p.analyser.get_best_fit()['parameters'])(thdata))\n",
    "errorbar(xdata, zdata, yunc*ones(zdata.size), fmt='o')\n",
    "plot(thdata, model([param0,param1])(thdata))"
   ]
  },
  {
   "cell_type": "markdown",
   "metadata": {},
   "source": [
    "# 1D Gaussian Modeling"
   ]
  },
  {
   "cell_type": "code",
   "execution_count": null,
   "metadata": {
    "collapsed": true
   },
   "outputs": [],
   "source": [
    "from __future__ import absolute_import, unicode_literals, print_function\n",
    "import pymultinest\n",
    "import math\n",
    "import os\n",
    "import threading, subprocess\n",
    "from sys import platform\n",
    "\n",
    "if not os.path.exists(\"chains\"): os.mkdir(\"chains\")"
   ]
  },
  {
   "cell_type": "code",
   "execution_count": null,
   "metadata": {
    "collapsed": false
   },
   "outputs": [],
   "source": [
    "%matplotlib inline\n",
    "from pylab import *;ion()\n",
    "\n",
    "from pymultinest.solve import Solver,solve\n",
    "from numpy import pi, sin, cos, linspace\n",
    "\n",
    "def gaussian1D(cube):\n",
    "    # cube = np.float32(cube)\n",
    "    return lambda y: np.exp(-0.5*(( (cube[0] - y) / cube[1])**2)) / sqrt(2*pi*cube[1]**2)\n",
    "\n",
    "def straight_line(cube):\n",
    "    offset = cube[0]\n",
    "    slope  = cube[1]\n",
    "    return lambda abscissa: offset + slope * abscissa\n",
    "\n",
    "def sine_wave(cube):\n",
    "    amp    = cube[0]\n",
    "    period = cube[1]\n",
    "    return lambda abscissa: amp*sin(2*pi / period * abscissa)\n",
    "\n",
    "np.random.seed(42)\n",
    "\n",
    "param0= 0.5#0.05\n",
    "param1= 0.1#5*pi\n",
    "yunc  = 0.1\n",
    "nPts  = int(50)\n",
    "nThPts= int(1e3)\n",
    "\n",
    "xmin  = -1#*pi\n",
    "xmax  =  1#*pi\n",
    "dx    = 0.1*(xmax - xmin)\n",
    "\n",
    "# model = sine_wave; parameters = [\"amp\", \"period\"]\n",
    "# model = straight_line; parameters = [\"offset\", \"slope\"]\n",
    "model = gaussian1D; parameters = [\"center\", \"width\"]\n",
    "\n",
    "yuncs = np.random.normal(yunc, 1e-2 * yunc, nPts)\n",
    "thdata= np.linspace(xmin-dx, xmax+dx, nThPts)\n",
    "\n",
    "xdata = np.random.uniform(xmin, xmax, nPts)\n",
    "xdata = sort(xdata)\n",
    "\n",
    "ydata = model([param0,param1])(xdata)\n",
    "\n",
    "yerr  = np.random.normal(0, yuncs, nPts)\n",
    "zdata = ydata + yerr\n",
    "\n",
    "figure(figsize=(10,10))\n",
    "plot(thdata, model([param0,param1])(thdata))\n",
    "errorbar(xdata, zdata, yunc*ones(zdata.size), fmt='o')"
   ]
  },
  {
   "cell_type": "code",
   "execution_count": null,
   "metadata": {
    "collapsed": true
   },
   "outputs": [],
   "source": [
    "# our probability functions\n",
    "# Taken from the eggbox problem.\n",
    "# model = sine_wave; parameters = [\"amp\", \"period\"]\n",
    "# model = gaussian1D; parameters = [\"center\", \"width\"]\n",
    "# model = straight_line; parameters = [\"offset\", \"slope\"]\n",
    "\n",
    "def myprior(cube, ndim, nparams):\n",
    "    pass\n",
    "#     #print \"cube before\", [cube[i] for i in range(ndim)]\n",
    "#     for i in range(ndim):\n",
    "#         cube[i] = cube[i]# U(0,1) -- default\n",
    "#     #print \"python cube after\", [cube[i] for i in range(ndim)]\n",
    "\n",
    "def myloglike(cube, ndim, nparams):\n",
    "    # print \"cube\", [cube[i] for i in range(ndim)], cube\n",
    "    # for i in range(ndim):\n",
    "    #     chi *= -0.5 * ((cube[i] - 0.2) / 0.1)**2#math.cos(cube[i] / 2.) * math.sin(cube[i] / 2.)\n",
    "    # print \"returning\", math.pow(2. + chi, 5)\n",
    "    modelNow = model(cube)(xdata)\n",
    "    return -0.5*((modelNow - ydata)**2. / yuncs**2.).sum()"
   ]
  },
  {
   "cell_type": "code",
   "execution_count": null,
   "metadata": {
    "collapsed": false
   },
   "outputs": [],
   "source": [
    "# number of dimensions our problem has\n",
    "# parameters = [\"x\", \"y\"]\n",
    "n_params = len(parameters)\n",
    "\n",
    "plt.figure(figsize=(5*n_params, 5*n_params))\n",
    "# we want to see some output while it is running\n",
    "progress = pymultinest.ProgressPlotter(n_params = n_params, outputfiles_basename='chains/2-'); progress.start()\n",
    "# threading.Timer(2, show, [\"chains/2-phys_live.points.pdf\"]).start() # delayed opening\n",
    "# run MultiNest\n",
    "pymultinest.run(myloglike, myprior, n_params, importance_nested_sampling = False, resume = False, verbose = True, \\\n",
    "            sampling_efficiency = 'model', n_live_points = 1000, outputfiles_basename='chains/2-')\n",
    "\n",
    "# ok, done. Stop our progress watcher\n",
    "progress.stop()\n",
    "\n",
    "# lets analyse the results\n",
    "a = pymultinest.Analyzer(n_params = n_params, outputfiles_basename='chains/2-')\n",
    "s = a.get_stats()"
   ]
  },
  {
   "cell_type": "code",
   "execution_count": null,
   "metadata": {
    "collapsed": false
   },
   "outputs": [],
   "source": [
    "import json\n",
    "\n",
    "# store name of parameters, always useful\n",
    "with open('%sparams.json' % a.outputfiles_basename, 'w') as f:\n",
    "    json.dump(parameters, f, indent=2)\n",
    "# store derived stats\n",
    "with open('%sstats.json' % a.outputfiles_basename, mode='w') as f:\n",
    "    json.dump(s, f, indent=2)\n",
    "\n",
    "print()\n",
    "print(\"-\" * 30, 'ANALYSIS', \"-\" * 30)\n",
    "print(\"Global Evidence:\\n\\t%.15e +- %.15e\" % ( s['nested sampling global log-evidence'], s['nested sampling global log-evidence error'] ))"
   ]
  },
  {
   "cell_type": "code",
   "execution_count": null,
   "metadata": {
    "collapsed": false
   },
   "outputs": [],
   "source": [
    "import matplotlib.pyplot as plt\n",
    "plt.clf()\n",
    "\n",
    "# Here we will plot all the marginals and whatnot, just to show off\n",
    "# You may configure the format of the output here, or in matplotlibrc\n",
    "# All pymultinest does is filling in the data of the plot.\n",
    "\n",
    "# Copy and edit this file, and play with it.\n",
    "\n",
    "p = pymultinest.PlotMarginalModes(a)\n",
    "plt.figure(figsize=(5*n_params, 5*n_params))\n",
    "#plt.subplots_adjust(wspace=0, hspace=0)\n",
    "for i in range(n_params):\n",
    "    plt.subplot(n_params, n_params, n_params * i + i + 1)\n",
    "    p.plot_marginal(i, with_ellipses = True, with_points = False, grid_points=50)\n",
    "    plt.ylabel(\"Probability\")\n",
    "    plt.xlabel(parameters[i])\n",
    "    \n",
    "    for j in range(i):\n",
    "        plt.subplot(n_params, n_params, n_params * j + i + 1)\n",
    "        #plt.subplots_adjust(left=0, bottom=0, right=0, top=0, wspace=0, hspace=0)\n",
    "        p.plot_conditional(i, j, with_ellipses = False, with_points = True, grid_points=30)\n",
    "        plt.xlabel(parameters[i])\n",
    "        plt.ylabel(parameters[j])\n",
    "\n",
    "# plt.savefig(\"chains/marginals_multinest.pdf\") #, bbox_inches='tight')\n",
    "# show(\"chains/marginals_multinest.pdf\")\n",
    "\n",
    "plt.figure(figsize=(5*n_params, 5*n_params))\n",
    "plt.subplot2grid((5*n_params, 5*n_params), loc=(0,0))\n",
    "for i in range(n_params):\n",
    "    #plt.subplot(n_params, n_params, i + 1)\n",
    "    # outfile = '%s-mode-marginal-%d.pdf' % (a.outputfiles_basename,i)\n",
    "    p.plot_modes_marginal(i, with_ellipses = True, with_points = False)\n",
    "    plt.ylabel(\"Probability\")\n",
    "    plt.xlabel(parameters[i])\n",
    "    # plt.savefig(outfile, format='pdf', bbox_inches='tight')\n",
    "    # plt.close()\n",
    "    \n",
    "    # outfile = '%s-mode-marginal-cumulative-%d.pdf' % (a.outputfiles_basename,i)\n",
    "    p.plot_modes_marginal(i, cumulative = True, with_ellipses = True, with_points = False)\n",
    "    plt.ylabel(\"Cumulative probability\")\n",
    "    plt.xlabel(parameters[i])\n",
    "    # plt.savefig(outfile, format='pdf', bbox_inches='tight')\n",
    "    # plt.close()\n",
    "\n",
    "print(\"Take a look at the pdf files in chains/\") "
   ]
  },
  {
   "cell_type": "code",
   "execution_count": null,
   "metadata": {
    "collapsed": false
   },
   "outputs": [],
   "source": [
    "p.analyser.get_best_fit()['parameters'], [param0, param1]"
   ]
  },
  {
   "cell_type": "code",
   "execution_count": null,
   "metadata": {
    "collapsed": false
   },
   "outputs": [],
   "source": [
    "p.analyser.get_stats()"
   ]
  },
  {
   "cell_type": "code",
   "execution_count": null,
   "metadata": {
    "collapsed": false,
    "scrolled": false
   },
   "outputs": [],
   "source": [
    "figure(figsize=(10,10))\n",
    "plot(thdata, model(p.analyser.get_best_fit()['parameters'])(thdata))\n",
    "errorbar(xdata, zdata, yunc*ones(zdata.size), fmt='o')\n",
    "plot(thdata, model([param0,param1])(thdata))"
   ]
  },
  {
   "cell_type": "markdown",
   "metadata": {},
   "source": [
    "# 2D Gaussian Modeling"
   ]
  },
  {
   "cell_type": "code",
   "execution_count": null,
   "metadata": {
    "collapsed": true
   },
   "outputs": [],
   "source": [
    "def gaussian2D(params):\n",
    "    \"\"\"\n",
    "        Written by Nate Lust\n",
    "        Edited  by Jonathan Fraine\n",
    "\n",
    "        Returns a 2D gaussian function with the given parameters\n",
    "\n",
    "        center_y, center_x  = center position of 2D gaussian profile\n",
    "\n",
    "        width_y , width_x   = widths of 2D gaussian profile (if width_y != width_x, then gaussian crossection = ellipse)\n",
    "\n",
    "        height  = height of gaussian profile\n",
    "                    -- defaults to `1 / np.sqrt(2.*pi*sigma**2.)`\n",
    "\n",
    "        offset  = background, lower limit value for gaussian\n",
    "                    -- defaults to 0.0\n",
    "    \"\"\"\n",
    "    \n",
    "    center_y, center_x, width_y, width_x, height, offset = params\n",
    "    \n",
    "    center_y, center_x, width_y, width_x, height, offset = \\\n",
    "    float(center_y), float(center_x), float(width_y), float(width_x), float(height), float(offset)\n",
    "    \n",
    "    if height == 0 or width_y == 0 or width_x == 0:\n",
    "        return lambda y,x: np.zeros(yinds.shape)\n",
    "    \n",
    "    return lambda y,x: height*np.exp(-0.5*(((center_x - x) / width_x)**2 + ( (center_y - y) / width_y)**2)) + offset"
   ]
  },
  {
   "cell_type": "code",
   "execution_count": null,
   "metadata": {
    "collapsed": true
   },
   "outputs": [],
   "source": [
    "%matplotlib inline\n",
    "from pylab import *;ion()\n",
    "\n",
    "from pymultinest.solve import Solver,solve\n",
    "from numpy import pi, sin, cos, linspace\n",
    "\n",
    "\n",
    "np.random.seed(0)\n",
    "\n",
    "height  = 0.5#0.05\n",
    "offset  = 0.1\n",
    "center_x = 0.7#5*pi\n",
    "center_y = 0.7#5*pi\n",
    "width_x  = 0.1\n",
    "width_y  = 0.2\n",
    "\n",
    "params  = center_y, center_x, width_y, width_x, height, offset\n",
    "\n",
    "yunc  = 0.01\n",
    "nPts  = int(50)\n",
    "nThPts= int(1e3)\n",
    "\n",
    "xmin  = -0#*pi\n",
    "xmax  =  1#*pi\n",
    "xrng  = xmax - xmin\n",
    "dx    =  0.1*(xmax - xmin)\n",
    "\n",
    "ymin  = -0\n",
    "ymax  =  1\n",
    "yrng  = ymax - ymin\n",
    "dy    =  0.1*(ymax - ymin)\n",
    "\n",
    "yinds, xinds = np.indices((nThPts,nThPts))\n",
    "\n",
    "yinds        = (yinds - yinds.min()) / (yinds.max() - yinds.min()) * yrng - ymin\n",
    "xinds        = (xinds - xinds.min()) / (xinds.max() - xinds.min()) * xrng - xmin\n",
    "\n",
    "pureImage    = gaussian2D(params)(yinds, xinds)\n",
    "\n",
    "noiseImage   = np.random.normal(0, yunc, yinds.shape)\n",
    "zuncs        = np.random.normal(yunc, 1e-2 * yunc, yinds.shape)\n",
    "\n",
    "noisyImage   = pureImage + noiseImage\n",
    "\n",
    "imshow(noisyImage, origin='bottom', extent=[xmin,xmax,ymin,ymax])"
   ]
  },
  {
   "cell_type": "code",
   "execution_count": null,
   "metadata": {
    "collapsed": true
   },
   "outputs": [],
   "source": [
    "# our probability functions\n",
    "# Taken from the eggbox problem.\n",
    "model      = gaussian2D\n",
    "parameters = ['center_y', 'center_x', 'width_y', 'width_x', 'height', 'offset']\n",
    "\n",
    "def myprior(cube, ndim, nparams):\n",
    "    # Default to an N-dimensional U(0,1) box \n",
    "    # center_y, center_x, width_y, width_x, height, offset = params\n",
    "    cube[0] = cube[0] + 1e-20\n",
    "    cube[1] = cube[1] + 1e-20\n",
    "    cube[2] = cube[2] + 1e-20\n",
    "    cube[3] = cube[3] + 1e-20\n",
    "    cube[4] = cube[4] + 1e-20\n",
    "    cube[5] = cube[5] + 1e-20\n",
    "    return cube\n",
    "\n",
    "def myloglike(cube, ndim, nparams):\n",
    "    zinds = [yinds,xinds]\n",
    "    modelNow = model(cube)(*zinds)\n",
    "    return -0.5*(((modelNow - noisyImage) / zuncs)**2.).sum()"
   ]
  },
  {
   "cell_type": "code",
   "execution_count": null,
   "metadata": {
    "collapsed": true
   },
   "outputs": [],
   "source": [
    "from tqdm import tqdm_notebook\n",
    "cube    = array(params).copy()\n",
    "ndim    = len(params)\n",
    "nparams = len(params)\n",
    "print(myloglike(cube, ndim, nparams))\n",
    "\n",
    "cube[0] = 0\n",
    "cube[1] = 0\n",
    "cube[2] = 0\n",
    "cube[3] = 0\n",
    "cube[4] = 0\n",
    "cube[5] = 0\n",
    "\n",
    "print(myloglike(cube, ndim, nparams))\n",
    "\n",
    "niters = int(1e0)\n",
    "for _ in tqdm_notebook(range(niters), total=niters):\n",
    "    cube0 = myprior(np.random.uniform(0,1,nparams), ndim, nparams)\n",
    "    loglikeNow = myloglike(cube0, ndim, nparams)\n",
    "    if np.isnan(loglikeNow):\n",
    "        print(cube, loglikeNow)"
   ]
  },
  {
   "cell_type": "code",
   "execution_count": null,
   "metadata": {
    "collapsed": true
   },
   "outputs": [],
   "source": [
    "# number of dimensions our problem has\n",
    "# parameters = [\"x\", \"y\"]\n",
    "n_params = len(parameters)\n",
    "\n",
    "plt.figure(figsize=(5*n_params, 5*n_params))\n",
    "# we want to see some output while it is running\n",
    "progress = pymultinest.ProgressPlotter(n_params = n_params, outputfiles_basename='chains/2-'); progress.start()\n",
    "# threading.Timer(2, show, [\"chains/2-phys_live.points.pdf\"]).start() # delayed opening\n",
    "# run MultiNest\n",
    "pymultinest.run(myloglike, myprior, n_params, importance_nested_sampling = False, resume = False, verbose = True, \\\n",
    "            sampling_efficiency = 'model', n_live_points = 1000, outputfiles_basename='chains/2-')\n",
    "\n",
    "# ok, done. Stop our progress watcher\n",
    "progress.stop()\n",
    "\n",
    "# lets analyse the results\n",
    "a = pymultinest.Analyzer(n_params = n_params, outputfiles_basename='chains/2-')\n",
    "s = a.get_stats()"
   ]
  },
  {
   "cell_type": "code",
   "execution_count": null,
   "metadata": {
    "collapsed": true
   },
   "outputs": [],
   "source": [
    "import json\n",
    "\n",
    "# store name of parameters, always useful\n",
    "with open('%sparams.json' % a.outputfiles_basename, 'w') as f:\n",
    "    json.dump(parameters, f, indent=2)\n",
    "# store derived stats\n",
    "with open('%sstats.json' % a.outputfiles_basename, mode='w') as f:\n",
    "    json.dump(s, f, indent=2)\n",
    "\n",
    "print()\n",
    "print(\"-\" * 30, 'ANALYSIS', \"-\" * 30)\n",
    "print(\"Global Evidence:\\n\\t%.15e +- %.15e\" % ( s['nested sampling global log-evidence'], s['nested sampling global log-evidence error'] ))"
   ]
  },
  {
   "cell_type": "code",
   "execution_count": null,
   "metadata": {
    "collapsed": true
   },
   "outputs": [],
   "source": [
    "import matplotlib.pyplot as plt\n",
    "plt.clf()\n",
    "\n",
    "# Here we will plot all the marginals and whatnot, just to show off\n",
    "# You may configure the format of the output here, or in matplotlibrc\n",
    "# All pymultinest does is filling in the data of the plot.\n",
    "\n",
    "# Copy and edit this file, and play with it.\n",
    "\n",
    "p = pymultinest.PlotMarginalModes(a)\n",
    "plt.figure(figsize=(5*n_params, 5*n_params))\n",
    "#plt.subplots_adjust(wspace=0, hspace=0)\n",
    "for i in range(n_params):\n",
    "    plt.subplot(n_params, n_params, n_params * i + i + 1)\n",
    "    p.plot_marginal(i, with_ellipses = True, with_points = False, grid_points=50)\n",
    "    plt.ylabel(\"Probability\")\n",
    "    plt.xlabel(parameters[i])\n",
    "    \n",
    "    for j in range(i):\n",
    "        plt.subplot(n_params, n_params, n_params * j + i + 1)\n",
    "        #plt.subplots_adjust(left=0, bottom=0, right=0, top=0, wspace=0, hspace=0)\n",
    "        p.plot_conditional(i, j, with_ellipses = False, with_points = True, grid_points=30)\n",
    "        plt.xlabel(parameters[i])\n",
    "        plt.ylabel(parameters[j])\n",
    "\n",
    "# plt.savefig(\"chains/marginals_multinest.pdf\") #, bbox_inches='tight')\n",
    "# show(\"chains/marginals_multinest.pdf\")\n",
    "\n",
    "plt.figure(figsize=(5*n_params, 5*n_params))\n",
    "plt.subplot2grid((5*n_params, 5*n_params), loc=(0,0))\n",
    "for i in range(n_params):\n",
    "    #plt.subplot(n_params, n_params, i + 1)\n",
    "    # outfile = '%s-mode-marginal-%d.pdf' % (a.outputfiles_basename,i)\n",
    "    p.plot_modes_marginal(i, with_ellipses = True, with_points = False)\n",
    "    plt.ylabel(\"Probability\")\n",
    "    plt.xlabel(parameters[i])\n",
    "    # plt.savefig(outfile, format='pdf', bbox_inches='tight')\n",
    "    # plt.close()\n",
    "    \n",
    "    # outfile = '%s-mode-marginal-cumulative-%d.pdf' % (a.outputfiles_basename,i)\n",
    "    p.plot_modes_marginal(i, cumulative = True, with_ellipses = True, with_points = False)\n",
    "    plt.ylabel(\"Cumulative probability\")\n",
    "    plt.xlabel(parameters[i])\n",
    "    # plt.savefig(outfile, format='pdf', bbox_inches='tight')\n",
    "    # plt.close()\n",
    "\n",
    "print(\"Take a look at the pdf files in chains/\") "
   ]
  },
  {
   "cell_type": "code",
   "execution_count": null,
   "metadata": {
    "collapsed": true
   },
   "outputs": [],
   "source": [
    "p.analyser.get_best_fit()['parameters'], [param0, param1]"
   ]
  },
  {
   "cell_type": "code",
   "execution_count": null,
   "metadata": {
    "collapsed": true
   },
   "outputs": [],
   "source": [
    "p.analyser.get_stats()"
   ]
  },
  {
   "cell_type": "code",
   "execution_count": null,
   "metadata": {
    "collapsed": true,
    "scrolled": false
   },
   "outputs": [],
   "source": [
    "figure(figsize=(10,10))\n",
    "plot(thdata, model([param0,param1])(thdata))\n",
    "plot(thdata, model(p.analyser.get_best_fit()['parameters'])(thdata))\n",
    "errorbar(xdata, zdata, yunc*ones(zdata.size), fmt='o')"
   ]
  }
 ],
 "metadata": {
  "kernelspec": {
   "display_name": "Python 3",
   "language": "python",
   "name": "python3"
  },
  "language_info": {
   "codemirror_mode": {
    "name": "ipython",
    "version": 3
   },
   "file_extension": ".py",
   "mimetype": "text/x-python",
   "name": "python",
   "nbconvert_exporter": "python",
   "pygments_lexer": "ipython3",
   "version": "3.6.0"
  }
 },
 "nbformat": 4,
 "nbformat_minor": 2
}
